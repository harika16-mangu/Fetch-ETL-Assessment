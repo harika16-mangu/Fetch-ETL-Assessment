{
 "cells": [
  {
   "cell_type": "markdown",
   "id": "fbd6d566",
   "metadata": {},
   "source": [
    "Importing Libraries and packages"
   ]
  },
  {
   "cell_type": "code",
   "execution_count": 1,
   "id": "09d884e1",
   "metadata": {},
   "outputs": [],
   "source": [
    "import pandas as pd\n",
    "import numpy as np\n",
    "from datetime import datetime \n",
    "import json"
   ]
  },
  {
   "cell_type": "markdown",
   "id": "43e5fe3d",
   "metadata": {},
   "source": [
    "Loading unstructured json files brands,users,receipts "
   ]
  },
  {
   "cell_type": "code",
   "execution_count": 2,
   "id": "30d2d892",
   "metadata": {},
   "outputs": [],
   "source": [
    "with open(\"C:/Users/harik/Downloads/fetch/brands.json/brands.json\", \"r\") as file1:\n",
    "    brands_us = [json.loads(line) for line in file1]\n",
    "with open(\"C:/Users/harik/Downloads/fetch/users.json/users.json\", \"r\") as file2:\n",
    "    users_us = [json.loads(line) for line in file2]\n",
    "with open(\"C:/Users/harik/Downloads/fetch/receipts.json/receipts.json\", \"r\") as file3:\n",
    "    receipts_us = [json.loads(line) for line in file3]"
   ]
  },
  {
   "cell_type": "markdown",
   "id": "c834d7f3",
   "metadata": {},
   "source": [
    "DataFrame format of brands,users,receipts"
   ]
  },
  {
   "cell_type": "code",
   "execution_count": 3,
   "id": "6a3e3836",
   "metadata": {},
   "outputs": [],
   "source": [
    "# Convert JSON lists into DataFrames\n",
    "df_brands = pd.DataFrame(brands_us)\n",
    "df_users = pd.DataFrame(users_us)\n",
    "df_receipts = pd.DataFrame(receipts_us)"
   ]
  },
  {
   "cell_type": "markdown",
   "id": "5621e2fb",
   "metadata": {},
   "source": [
    "Flattening brands unstructured entries to structured records"
   ]
  },
  {
   "cell_type": "code",
   "execution_count": 4,
   "id": "0f10996a",
   "metadata": {},
   "outputs": [
    {
     "data": {
      "text/html": [
       "<div>\n",
       "<style scoped>\n",
       "    .dataframe tbody tr th:only-of-type {\n",
       "        vertical-align: middle;\n",
       "    }\n",
       "\n",
       "    .dataframe tbody tr th {\n",
       "        vertical-align: top;\n",
       "    }\n",
       "\n",
       "    .dataframe thead th {\n",
       "        text-align: right;\n",
       "    }\n",
       "</style>\n",
       "<table border=\"1\" class=\"dataframe\">\n",
       "  <thead>\n",
       "    <tr style=\"text-align: right;\">\n",
       "      <th></th>\n",
       "      <th>brand_id</th>\n",
       "      <th>barcode</th>\n",
       "      <th>brandCode</th>\n",
       "      <th>category</th>\n",
       "      <th>categoryCode</th>\n",
       "      <th>cpg_id</th>\n",
       "      <th>name</th>\n",
       "      <th>topBrand</th>\n",
       "    </tr>\n",
       "  </thead>\n",
       "  <tbody>\n",
       "    <tr>\n",
       "      <th>0</th>\n",
       "      <td>601ac115be37ce2ead437551</td>\n",
       "      <td>511111019862</td>\n",
       "      <td>0</td>\n",
       "      <td>Baking</td>\n",
       "      <td>BAKING</td>\n",
       "      <td>601ac114be37ce2ead437550</td>\n",
       "      <td>test brand @1612366101024</td>\n",
       "      <td>False</td>\n",
       "    </tr>\n",
       "    <tr>\n",
       "      <th>1</th>\n",
       "      <td>601c5460be37ce2ead43755f</td>\n",
       "      <td>511111519928</td>\n",
       "      <td>STARBUCKS</td>\n",
       "      <td>Beverages</td>\n",
       "      <td>BEVERAGES</td>\n",
       "      <td>5332f5fbe4b03c9a25efd0ba</td>\n",
       "      <td>Starbucks</td>\n",
       "      <td>False</td>\n",
       "    </tr>\n",
       "    <tr>\n",
       "      <th>2</th>\n",
       "      <td>601ac142be37ce2ead43755d</td>\n",
       "      <td>511111819905</td>\n",
       "      <td>TEST BRANDCODE @1612366146176</td>\n",
       "      <td>Baking</td>\n",
       "      <td>BAKING</td>\n",
       "      <td>601ac142be37ce2ead437559</td>\n",
       "      <td>test brand @1612366146176</td>\n",
       "      <td>False</td>\n",
       "    </tr>\n",
       "    <tr>\n",
       "      <th>3</th>\n",
       "      <td>601ac142be37ce2ead43755a</td>\n",
       "      <td>511111519874</td>\n",
       "      <td>TEST BRANDCODE @1612366146051</td>\n",
       "      <td>Baking</td>\n",
       "      <td>BAKING</td>\n",
       "      <td>601ac142be37ce2ead437559</td>\n",
       "      <td>test brand @1612366146051</td>\n",
       "      <td>False</td>\n",
       "    </tr>\n",
       "    <tr>\n",
       "      <th>4</th>\n",
       "      <td>601ac142be37ce2ead43755e</td>\n",
       "      <td>511111319917</td>\n",
       "      <td>TEST BRANDCODE @1612366146827</td>\n",
       "      <td>Candy &amp; Sweets</td>\n",
       "      <td>CANDY_AND_SWEETS</td>\n",
       "      <td>5332fa12e4b03c9a25efd1e7</td>\n",
       "      <td>test brand @1612366146827</td>\n",
       "      <td>False</td>\n",
       "    </tr>\n",
       "  </tbody>\n",
       "</table>\n",
       "</div>"
      ],
      "text/plain": [
       "                   brand_id       barcode                      brandCode  \\\n",
       "0  601ac115be37ce2ead437551  511111019862                              0   \n",
       "1  601c5460be37ce2ead43755f  511111519928                      STARBUCKS   \n",
       "2  601ac142be37ce2ead43755d  511111819905  TEST BRANDCODE @1612366146176   \n",
       "3  601ac142be37ce2ead43755a  511111519874  TEST BRANDCODE @1612366146051   \n",
       "4  601ac142be37ce2ead43755e  511111319917  TEST BRANDCODE @1612366146827   \n",
       "\n",
       "         category      categoryCode                    cpg_id  \\\n",
       "0          Baking            BAKING  601ac114be37ce2ead437550   \n",
       "1       Beverages         BEVERAGES  5332f5fbe4b03c9a25efd0ba   \n",
       "2          Baking            BAKING  601ac142be37ce2ead437559   \n",
       "3          Baking            BAKING  601ac142be37ce2ead437559   \n",
       "4  Candy & Sweets  CANDY_AND_SWEETS  5332fa12e4b03c9a25efd1e7   \n",
       "\n",
       "                        name topBrand  \n",
       "0  test brand @1612366101024    False  \n",
       "1                  Starbucks    False  \n",
       "2  test brand @1612366146176    False  \n",
       "3  test brand @1612366146051    False  \n",
       "4  test brand @1612366146827    False  "
      ]
     },
     "execution_count": 4,
     "metadata": {},
     "output_type": "execute_result"
    }
   ],
   "source": [
    "brands_data = []\n",
    "for entry in brands_us:\n",
    "    base_data = {\n",
    "        \"brand_id\": entry[\"_id\"][\"$oid\"], # Extracting brand ID\n",
    "        \"barcode\": entry.get(\"barcode\",0),\n",
    "        \"brandCode\": entry.get(\"brandCode\", 0),\n",
    "        \"category\": entry.get(\"category\", \"0\"),\n",
    "        \"categoryCode\": entry.get(\"categoryCode\", 0),\n",
    "        \"cpg_id\": entry[\"cpg\"][\"$id\"][\"$oid\"], #Extracting cpg_id\n",
    "        \"name\": entry.get(\"name\", \"null\"),\n",
    "        \"topBrand\": entry.get(\"topBrand\", \"UNKNOWN\"),\n",
    "    }\n",
    "    item_data = base_data.copy()  # Copy base data for each item\n",
    "    brands_data.append(item_data)\n",
    "df_brands_flat = pd.DataFrame(brands_data)\n",
    "df_brands_flat.head()"
   ]
  },
  {
   "cell_type": "markdown",
   "id": "d12d7324",
   "metadata": {},
   "source": [
    "Flattening Users unstructured entries to structured records"
   ]
  },
  {
   "cell_type": "code",
   "execution_count": 5,
   "id": "c74feb25",
   "metadata": {},
   "outputs": [
    {
     "data": {
      "text/html": [
       "<div>\n",
       "<style scoped>\n",
       "    .dataframe tbody tr th:only-of-type {\n",
       "        vertical-align: middle;\n",
       "    }\n",
       "\n",
       "    .dataframe tbody tr th {\n",
       "        vertical-align: top;\n",
       "    }\n",
       "\n",
       "    .dataframe thead th {\n",
       "        text-align: right;\n",
       "    }\n",
       "</style>\n",
       "<table border=\"1\" class=\"dataframe\">\n",
       "  <thead>\n",
       "    <tr style=\"text-align: right;\">\n",
       "      <th></th>\n",
       "      <th>user_id</th>\n",
       "      <th>active</th>\n",
       "      <th>role</th>\n",
       "      <th>signUpSource</th>\n",
       "      <th>state</th>\n",
       "      <th>createdDate</th>\n",
       "      <th>lastLogin</th>\n",
       "    </tr>\n",
       "  </thead>\n",
       "  <tbody>\n",
       "    <tr>\n",
       "      <th>0</th>\n",
       "      <td>5ff1e194b6a9d73a3a9f1052</td>\n",
       "      <td>True</td>\n",
       "      <td>consumer</td>\n",
       "      <td>Email</td>\n",
       "      <td>WI</td>\n",
       "      <td>2021-01-03 15:24:04.800</td>\n",
       "      <td>2021-01-03 15:25:37.857999872</td>\n",
       "    </tr>\n",
       "    <tr>\n",
       "      <th>1</th>\n",
       "      <td>5ff1e194b6a9d73a3a9f1052</td>\n",
       "      <td>True</td>\n",
       "      <td>consumer</td>\n",
       "      <td>Email</td>\n",
       "      <td>WI</td>\n",
       "      <td>2021-01-03 15:24:04.800</td>\n",
       "      <td>2021-01-03 15:25:37.857999872</td>\n",
       "    </tr>\n",
       "    <tr>\n",
       "      <th>2</th>\n",
       "      <td>5ff1e194b6a9d73a3a9f1052</td>\n",
       "      <td>True</td>\n",
       "      <td>consumer</td>\n",
       "      <td>Email</td>\n",
       "      <td>WI</td>\n",
       "      <td>2021-01-03 15:24:04.800</td>\n",
       "      <td>2021-01-03 15:25:37.857999872</td>\n",
       "    </tr>\n",
       "    <tr>\n",
       "      <th>3</th>\n",
       "      <td>5ff1e1eacfcf6c399c274ae6</td>\n",
       "      <td>True</td>\n",
       "      <td>consumer</td>\n",
       "      <td>Email</td>\n",
       "      <td>WI</td>\n",
       "      <td>2021-01-03 15:25:30.554</td>\n",
       "      <td>2021-01-03 15:25:30.596999936</td>\n",
       "    </tr>\n",
       "    <tr>\n",
       "      <th>4</th>\n",
       "      <td>5ff1e194b6a9d73a3a9f1052</td>\n",
       "      <td>True</td>\n",
       "      <td>consumer</td>\n",
       "      <td>Email</td>\n",
       "      <td>WI</td>\n",
       "      <td>2021-01-03 15:24:04.800</td>\n",
       "      <td>2021-01-03 15:25:37.857999872</td>\n",
       "    </tr>\n",
       "  </tbody>\n",
       "</table>\n",
       "</div>"
      ],
      "text/plain": [
       "                    user_id  active      role signUpSource state  \\\n",
       "0  5ff1e194b6a9d73a3a9f1052    True  consumer        Email    WI   \n",
       "1  5ff1e194b6a9d73a3a9f1052    True  consumer        Email    WI   \n",
       "2  5ff1e194b6a9d73a3a9f1052    True  consumer        Email    WI   \n",
       "3  5ff1e1eacfcf6c399c274ae6    True  consumer        Email    WI   \n",
       "4  5ff1e194b6a9d73a3a9f1052    True  consumer        Email    WI   \n",
       "\n",
       "              createdDate                     lastLogin  \n",
       "0 2021-01-03 15:24:04.800 2021-01-03 15:25:37.857999872  \n",
       "1 2021-01-03 15:24:04.800 2021-01-03 15:25:37.857999872  \n",
       "2 2021-01-03 15:24:04.800 2021-01-03 15:25:37.857999872  \n",
       "3 2021-01-03 15:25:30.554 2021-01-03 15:25:30.596999936  \n",
       "4 2021-01-03 15:24:04.800 2021-01-03 15:25:37.857999872  "
      ]
     },
     "execution_count": 5,
     "metadata": {},
     "output_type": "execute_result"
    }
   ],
   "source": [
    "users_data=[]\n",
    "for entry in users_us:\n",
    "    base_data = {\n",
    "        \"user_id\": entry[\"_id\"][\"$oid\"],  # Extracting receipt ID\n",
    "        \"active\": entry[\"active\"],\n",
    "        \"role\": entry.get(\"role\", \"UNKNOWN\"),\n",
    "        \"signUpSource\": entry.get(\"signUpSource\",\"UNKNOWN\"),\n",
    "        \"state\": entry.get(\"state\", \"UNKNOWN\"),\n",
    "    }\n",
    "    # Convert timestamp fields\n",
    "    date_fields = [\"createdDate\", \"lastLogin\"]\n",
    "    for field in date_fields:\n",
    "        if field in entry and \"$date\" in entry[field]:\n",
    "            base_data[field] = entry[field][\"$date\"]\n",
    "        else:\n",
    "            base_data[field] = None  # Set to None if missing  \n",
    "    users_data.append(base_data)\n",
    "# Convert the structured receipts list into a DataFrame\n",
    "df_users_flat = pd.DataFrame(users_data)\n",
    "date_columns=[\"createdDate\", \"lastLogin\"]\n",
    "for col in date_columns:\n",
    "    df_users_flat[col]=pd.to_datetime(df_users_flat[col],unit='ms')\n",
    "df_users_flat.head()       "
   ]
  },
  {
   "cell_type": "markdown",
   "id": "fad30e19",
   "metadata": {},
   "source": [
    "Flattening Receipts unstructured entries to structured records"
   ]
  },
  {
   "cell_type": "code",
   "execution_count": 6,
   "id": "07f52146",
   "metadata": {},
   "outputs": [
    {
     "data": {
      "text/html": [
       "<div>\n",
       "<style scoped>\n",
       "    .dataframe tbody tr th:only-of-type {\n",
       "        vertical-align: middle;\n",
       "    }\n",
       "\n",
       "    .dataframe tbody tr th {\n",
       "        vertical-align: top;\n",
       "    }\n",
       "\n",
       "    .dataframe thead th {\n",
       "        text-align: right;\n",
       "    }\n",
       "</style>\n",
       "<table border=\"1\" class=\"dataframe\">\n",
       "  <thead>\n",
       "    <tr style=\"text-align: right;\">\n",
       "      <th></th>\n",
       "      <th>receipt_id</th>\n",
       "      <th>userId</th>\n",
       "      <th>bonusPointsEarned</th>\n",
       "      <th>bonusPointsEarnedReason</th>\n",
       "      <th>pointsEarned</th>\n",
       "      <th>purchasedItemCount</th>\n",
       "      <th>totalSpent</th>\n",
       "      <th>rewardsReceiptStatus</th>\n",
       "      <th>createDate</th>\n",
       "      <th>dateScanned</th>\n",
       "      <th>...</th>\n",
       "      <th>brandCode</th>\n",
       "      <th>itemNumber</th>\n",
       "      <th>originalMetaBriteQuantityPurchased</th>\n",
       "      <th>targetPrice</th>\n",
       "      <th>competitiveProduct</th>\n",
       "      <th>originalFinalPrice</th>\n",
       "      <th>originalMetaBriteItemPrice</th>\n",
       "      <th>deleted</th>\n",
       "      <th>priceAfterCoupon</th>\n",
       "      <th>metabriteCampaignId</th>\n",
       "    </tr>\n",
       "  </thead>\n",
       "  <tbody>\n",
       "    <tr>\n",
       "      <th>0</th>\n",
       "      <td>5ff1e1eb0a720f0523000575</td>\n",
       "      <td>5ff1e1eacfcf6c399c274ae6</td>\n",
       "      <td>500</td>\n",
       "      <td>Receipt number 2 completed, bonus point schedu...</td>\n",
       "      <td>500.0</td>\n",
       "      <td>5</td>\n",
       "      <td>26.00</td>\n",
       "      <td>FINISHED</td>\n",
       "      <td>2021-01-03 15:25:31</td>\n",
       "      <td>2021-01-03 15:25:31</td>\n",
       "      <td>...</td>\n",
       "      <td>NaN</td>\n",
       "      <td>NaN</td>\n",
       "      <td>NaN</td>\n",
       "      <td>NaN</td>\n",
       "      <td>NaN</td>\n",
       "      <td>NaN</td>\n",
       "      <td>NaN</td>\n",
       "      <td>NaN</td>\n",
       "      <td>NaN</td>\n",
       "      <td>NaN</td>\n",
       "    </tr>\n",
       "    <tr>\n",
       "      <th>1</th>\n",
       "      <td>5ff1e1bb0a720f052300056b</td>\n",
       "      <td>5ff1e194b6a9d73a3a9f1052</td>\n",
       "      <td>150</td>\n",
       "      <td>Receipt number 5 completed, bonus point schedu...</td>\n",
       "      <td>150.0</td>\n",
       "      <td>2</td>\n",
       "      <td>11.00</td>\n",
       "      <td>FINISHED</td>\n",
       "      <td>2021-01-03 15:24:43</td>\n",
       "      <td>2021-01-03 15:24:43</td>\n",
       "      <td>...</td>\n",
       "      <td>NaN</td>\n",
       "      <td>NaN</td>\n",
       "      <td>NaN</td>\n",
       "      <td>NaN</td>\n",
       "      <td>NaN</td>\n",
       "      <td>NaN</td>\n",
       "      <td>NaN</td>\n",
       "      <td>NaN</td>\n",
       "      <td>NaN</td>\n",
       "      <td>NaN</td>\n",
       "    </tr>\n",
       "    <tr>\n",
       "      <th>2</th>\n",
       "      <td>5ff1e1f10a720f052300057a</td>\n",
       "      <td>5ff1e1f1cfcf6c399c274b0b</td>\n",
       "      <td>5</td>\n",
       "      <td>All-receipts receipt bonus</td>\n",
       "      <td>5</td>\n",
       "      <td>1</td>\n",
       "      <td>10.00</td>\n",
       "      <td>REJECTED</td>\n",
       "      <td>2021-01-03 15:25:37</td>\n",
       "      <td>2021-01-03 15:25:37</td>\n",
       "      <td>...</td>\n",
       "      <td>NaN</td>\n",
       "      <td>NaN</td>\n",
       "      <td>NaN</td>\n",
       "      <td>NaN</td>\n",
       "      <td>NaN</td>\n",
       "      <td>NaN</td>\n",
       "      <td>NaN</td>\n",
       "      <td>NaN</td>\n",
       "      <td>NaN</td>\n",
       "      <td>NaN</td>\n",
       "    </tr>\n",
       "    <tr>\n",
       "      <th>3</th>\n",
       "      <td>5ff1e1ee0a7214ada100056f</td>\n",
       "      <td>5ff1e1eacfcf6c399c274ae6</td>\n",
       "      <td>5</td>\n",
       "      <td>All-receipts receipt bonus</td>\n",
       "      <td>5.0</td>\n",
       "      <td>4</td>\n",
       "      <td>28.00</td>\n",
       "      <td>FINISHED</td>\n",
       "      <td>2021-01-03 15:25:34</td>\n",
       "      <td>2021-01-03 15:25:34</td>\n",
       "      <td>...</td>\n",
       "      <td>NaN</td>\n",
       "      <td>NaN</td>\n",
       "      <td>NaN</td>\n",
       "      <td>NaN</td>\n",
       "      <td>NaN</td>\n",
       "      <td>NaN</td>\n",
       "      <td>NaN</td>\n",
       "      <td>NaN</td>\n",
       "      <td>NaN</td>\n",
       "      <td>NaN</td>\n",
       "    </tr>\n",
       "    <tr>\n",
       "      <th>4</th>\n",
       "      <td>5ff1e1d20a7214ada1000561</td>\n",
       "      <td>5ff1e194b6a9d73a3a9f1052</td>\n",
       "      <td>5</td>\n",
       "      <td>All-receipts receipt bonus</td>\n",
       "      <td>5.0</td>\n",
       "      <td>2</td>\n",
       "      <td>1.00</td>\n",
       "      <td>FINISHED</td>\n",
       "      <td>2021-01-03 15:25:06</td>\n",
       "      <td>2021-01-03 15:25:06</td>\n",
       "      <td>...</td>\n",
       "      <td>NaN</td>\n",
       "      <td>NaN</td>\n",
       "      <td>NaN</td>\n",
       "      <td>NaN</td>\n",
       "      <td>NaN</td>\n",
       "      <td>NaN</td>\n",
       "      <td>NaN</td>\n",
       "      <td>NaN</td>\n",
       "      <td>NaN</td>\n",
       "      <td>NaN</td>\n",
       "    </tr>\n",
       "  </tbody>\n",
       "</table>\n",
       "<p>5 rows × 47 columns</p>\n",
       "</div>"
      ],
      "text/plain": [
       "                 receipt_id                    userId  bonusPointsEarned  \\\n",
       "0  5ff1e1eb0a720f0523000575  5ff1e1eacfcf6c399c274ae6                500   \n",
       "1  5ff1e1bb0a720f052300056b  5ff1e194b6a9d73a3a9f1052                150   \n",
       "2  5ff1e1f10a720f052300057a  5ff1e1f1cfcf6c399c274b0b                  5   \n",
       "3  5ff1e1ee0a7214ada100056f  5ff1e1eacfcf6c399c274ae6                  5   \n",
       "4  5ff1e1d20a7214ada1000561  5ff1e194b6a9d73a3a9f1052                  5   \n",
       "\n",
       "                             bonusPointsEarnedReason pointsEarned  \\\n",
       "0  Receipt number 2 completed, bonus point schedu...        500.0   \n",
       "1  Receipt number 5 completed, bonus point schedu...        150.0   \n",
       "2                         All-receipts receipt bonus            5   \n",
       "3                         All-receipts receipt bonus          5.0   \n",
       "4                         All-receipts receipt bonus          5.0   \n",
       "\n",
       "   purchasedItemCount totalSpent rewardsReceiptStatus          createDate  \\\n",
       "0                   5      26.00             FINISHED 2021-01-03 15:25:31   \n",
       "1                   2      11.00             FINISHED 2021-01-03 15:24:43   \n",
       "2                   1      10.00             REJECTED 2021-01-03 15:25:37   \n",
       "3                   4      28.00             FINISHED 2021-01-03 15:25:34   \n",
       "4                   2       1.00             FINISHED 2021-01-03 15:25:06   \n",
       "\n",
       "          dateScanned  ... brandCode itemNumber  \\\n",
       "0 2021-01-03 15:25:31  ...       NaN        NaN   \n",
       "1 2021-01-03 15:24:43  ...       NaN        NaN   \n",
       "2 2021-01-03 15:25:37  ...       NaN        NaN   \n",
       "3 2021-01-03 15:25:34  ...       NaN        NaN   \n",
       "4 2021-01-03 15:25:06  ...       NaN        NaN   \n",
       "\n",
       "  originalMetaBriteQuantityPurchased targetPrice competitiveProduct  \\\n",
       "0                                NaN         NaN                NaN   \n",
       "1                                NaN         NaN                NaN   \n",
       "2                                NaN         NaN                NaN   \n",
       "3                                NaN         NaN                NaN   \n",
       "4                                NaN         NaN                NaN   \n",
       "\n",
       "  originalFinalPrice originalMetaBriteItemPrice  deleted priceAfterCoupon  \\\n",
       "0                NaN                        NaN      NaN              NaN   \n",
       "1                NaN                        NaN      NaN              NaN   \n",
       "2                NaN                        NaN      NaN              NaN   \n",
       "3                NaN                        NaN      NaN              NaN   \n",
       "4                NaN                        NaN      NaN              NaN   \n",
       "\n",
       "  metabriteCampaignId  \n",
       "0                 NaN  \n",
       "1                 NaN  \n",
       "2                 NaN  \n",
       "3                 NaN  \n",
       "4                 NaN  \n",
       "\n",
       "[5 rows x 47 columns]"
      ]
     },
     "execution_count": 6,
     "metadata": {},
     "output_type": "execute_result"
    }
   ],
   "source": [
    "# Extracting and flattening relevant fields\n",
    "receipts_data = []\n",
    "for entry in receipts_us:\n",
    "    base_data = {\n",
    "        \"receipt_id\": entry[\"_id\"][\"$oid\"],  # Extracting receipt ID\n",
    "        \"userId\": entry[\"userId\"],\n",
    "        \"bonusPointsEarned\": entry.get(\"bonusPointsEarned\", 0),\n",
    "        \"bonusPointsEarnedReason\":entry.get(\"bonusPointsEarnedReason\",\"UNKNOWN\"),\n",
    "        \"pointsEarned\": entry.get(\"pointsEarned\", \"0\"),\n",
    "        \"purchasedItemCount\": entry.get(\"purchasedItemCount\", 0),\n",
    "        \"totalSpent\": entry.get(\"totalSpent\", \"0\"),\n",
    "        \"rewardsReceiptStatus\": entry.get(\"rewardsReceiptStatus\", \"UNKNOWN\"),\n",
    "    }\n",
    "    # Convert timestamp fields\n",
    "    date_fields = [\"createDate\", \"dateScanned\", \"finishedDate\", \"modifyDate\", \"pointsAwardedDate\", \"purchaseDate\"]\n",
    "    for field in date_fields:\n",
    "        if field in entry and \"$date\" in entry[field]:\n",
    "            timestamp=entry[field][\"$date\"]/1000\n",
    "            base_data[field] = entry[field][\"$date\"]\n",
    "        else:\n",
    "            base_data[field] = None  # Set to None if missing\n",
    "    receipts_data.append(base_data)\n",
    "\n",
    "all_possible_keys = set()  # Store all unique keys from rewardsReceiptItemList\n",
    "\n",
    "# First, collect all unique keys across all items\n",
    "for entry in receipts_us:\n",
    "    for item in entry.get(\"rewardsReceiptItemList\", []):\n",
    "        all_possible_keys.update(item.keys())\n",
    "        # Expand rewardsReceiptItemList\n",
    "    for item in entry.get(\"rewardsReceiptItemList\", []):\n",
    "        item_data = base_data.copy()  # Copy base data for each item\n",
    "        \n",
    "        # Include all dynamically found columns\n",
    "        for key in all_possible_keys:\n",
    "            item_data[key] = item.get(key, None)  # Fill missing values with None\n",
    "\n",
    "        receipts_data.append(item_data)\n",
    "\n",
    "# Convert the structured receipts list into a DataFrame\n",
    "df_receipts_flat = pd.DataFrame(receipts_data)\n",
    "for col in date_fields:\n",
    "    df_receipts_flat[col]=pd.to_datetime(df_receipts_flat[col],unit='ms')\n",
    "# Display the structured receipts DataFrame\n",
    "df_receipts_flat.head()"
   ]
  },
  {
   "cell_type": "markdown",
   "id": "1d8ee2b5",
   "metadata": {},
   "source": [
    "Checking the flattened receipts dataset to ensure the receipts item list is also flattened "
   ]
  },
  {
   "cell_type": "code",
   "execution_count": 7,
   "id": "7b30a519",
   "metadata": {},
   "outputs": [
    {
     "data": {
      "text/plain": [
       "Index(['receipt_id', 'userId', 'bonusPointsEarned', 'bonusPointsEarnedReason',\n",
       "       'pointsEarned', 'purchasedItemCount', 'totalSpent',\n",
       "       'rewardsReceiptStatus', 'createDate', 'dateScanned', 'finishedDate',\n",
       "       'modifyDate', 'pointsAwardedDate', 'purchaseDate', 'description',\n",
       "       'finalPrice', 'needsFetchReview', 'userFlaggedQuantity',\n",
       "       'partnerItemId', 'itemPrice', 'preventTargetGapPoints', 'barcode',\n",
       "       'quantityPurchased', 'userFlaggedPrice', 'userFlaggedBarcode',\n",
       "       'userFlaggedNewItem', 'pointsNotAwardedReason',\n",
       "       'rewardsProductPartnerId', 'rewardsGroup', 'needsFetchReviewReason',\n",
       "       'userFlaggedDescription', 'pointsPayerId', 'originalMetaBriteBarcode',\n",
       "       'originalMetaBriteDescription', 'discountedItemPrice',\n",
       "       'originalReceiptItemText', 'competitorRewardsGroup', 'brandCode',\n",
       "       'itemNumber', 'originalMetaBriteQuantityPurchased', 'targetPrice',\n",
       "       'competitiveProduct', 'originalFinalPrice',\n",
       "       'originalMetaBriteItemPrice', 'deleted', 'priceAfterCoupon',\n",
       "       'metabriteCampaignId'],\n",
       "      dtype='object')"
      ]
     },
     "execution_count": 7,
     "metadata": {},
     "output_type": "execute_result"
    }
   ],
   "source": [
    "#seems like the receipts dataset is flattened and the json file is converted to structured data\n",
    "df_receipts_flat.columns"
   ]
  },
  {
   "cell_type": "markdown",
   "id": "5270c066",
   "metadata": {},
   "source": [
    "Saving structured datasets df_users_flat,df_brands_flat,df_receipts_flat to structured CSV files"
   ]
  },
  {
   "cell_type": "code",
   "execution_count": 8,
   "id": "55589dd4",
   "metadata": {},
   "outputs": [],
   "source": [
    "df_receipts_flat.to_csv(\"C:/Users/harik/Downloads/fetch/structured_receipts.csv\", index=False)\n",
    "df_users_flat.to_csv(\"C:/Users/harik/Downloads/fetch/structured_users.csv\", index=False)\n",
    "df_brands_flat.to_csv(\"C:/Users/harik/Downloads/fetch/structured_brands.csv\", index=False)"
   ]
  },
  {
   "cell_type": "markdown",
   "id": "674fa8a1",
   "metadata": {},
   "source": [
    "Now i would like to normalize the data this ensures consistency and reduces redandancy\n",
<<<<<<< HEAD
    "1NF: Current table df_users_flat,df_receipts_flat,df_brands_flat meets 1NF \n",
    "Since every field holds a single value(atomic value) and each combination is unique.\n",
=======
    "1NF: Current table df_users_flat,df_receipts_flat,df_brands_flat meets 1NF \n
     Since every field holds a single value(atomic value) and each combination is unique.\n",
>>>>>>> 40e9a7308dfb9a9ff951a984fe95525e868082d9
    "df_users_flat -userId is the primary key\n",
    "df_brands_flat -brand_id is the primary key\n",
    "df_receipts_flat -receipt_id is the primary key"
   ]
  },
  {
   "cell_type": "markdown",
   "id": "711bb512",
   "metadata": {},
   "source": [
    "2NF: The current dataset df_receipts_flat has partial dependencies.\n",
    "So identifying composite primary keys that uniquely identifies item in a receipt.\n",
    "The best way to achieve 2NF and remove the complexity from the dataset is by splitting the receipts level data and receipts Item level data"
   ]
  },
  {
   "cell_type": "markdown",
   "id": "0b60ad1b",
   "metadata": {},
   "source": [
    "Receipts specific data"
   ]
  },
  {
   "cell_type": "code",
   "execution_count": 9,
   "id": "4fe0525b",
   "metadata": {},
   "outputs": [],
   "source": [
    "df_receipts_normalized = df_receipts_flat[[\"receipt_id\", \"userId\", \"bonusPointsEarned\", \"pointsEarned\",\"purchasedItemCount\", \"totalSpent\", \"rewardsReceiptStatus\",\n",
    "    \"createDate\", \"dateScanned\", \"finishedDate\", \"modifyDate\",\"pointsAwardedDate\", \"purchaseDate\"]]"
   ]
  },
  {
   "cell_type": "markdown",
   "id": "71324af1",
   "metadata": {},
   "source": [
    "Receipt Item specific data"
   ]
  },
  {
   "cell_type": "code",
   "execution_count": 10,
   "id": "e832863f",
   "metadata": {},
   "outputs": [],
   "source": [
    "df_items = df_receipts_flat[[\n",
    "    \"receipt_id\", \"barcode\", \"description\", \"finalPrice\", \"itemPrice\",\"needsFetchReview\", \"partnerItemId\", \"preventTargetGapPoints\",\n",
    "    \"quantityPurchased\", \"userFlaggedBarcode\", \"userFlaggedNewItem\",\"userFlaggedPrice\", \"userFlaggedQuantity\", \"userFlaggedDescription\",\n",
    "    \"targetPrice\", \"discountedItemPrice\", \"originalReceiptItemText\",\"originalFinalPrice\", \"competitiveProduct\", \"originalMetaBriteBarcode\",\n",
    "    \"originalMetaBriteDescription\", \"originalMetaBriteItemPrice\",\"originalMetaBriteQuantityPurchased\", \"pointsEarned\",\n",
    "    \"pointsPayerId\", \"rewardsGroup\", \"rewardsProductPartnerId\",\"pointsNotAwardedReason\", \"needsFetchReviewReason\"]]"
   ]
  },
  {
   "cell_type": "markdown",
   "id": "1227f5fb",
   "metadata": {},
   "source": [
    "Now, df_receipts and df_items are in 2NF because each non-key column depends on primary key"
   ]
  },
  {
   "cell_type": "markdown",
   "id": "6b1e13f1",
   "metadata": {},
   "source": [
    "3NF - Removing transitive dependencies,Denormalizing df_items into df_items,df_products,df_rewards,df_userflagged,df_metabriteproducts"
   ]
  },
  {
   "cell_type": "markdown",
   "id": "65ed27ab",
   "metadata": {},
   "source": [
    "Created a seperate df_products table with all the columns respective for products"
   ]
  },
  {
   "cell_type": "code",
   "execution_count": 11,
   "id": "9323cbad",
   "metadata": {},
   "outputs": [],
   "source": [
    "df_products = df_items[['barcode', 'description','itemPrice','targetPrice','discountedItemPrice','finalPrice','competitiveProduct','needsFetchReview','needsFetchReviewReason']].reset_index(drop=True)\n",
    "#considering the columns finalprice and originalfinalprice to be finalprice\n",
    "# Create a unique product_id\n",
    "df_products['product_id'] = df_products.index + 1  # Auto-incrementing ID"
   ]
  },
  {
   "cell_type": "markdown",
   "id": "6620c413",
   "metadata": {},
   "source": [
    "Checking the dtypes of columns for df_items"
   ]
  },
  {
   "cell_type": "code",
   "execution_count": 12,
   "id": "79ffbb60",
   "metadata": {
    "scrolled": true
   },
   "outputs": [
    {
     "name": "stdout",
     "output_type": "stream",
     "text": [
      "receipt_id                             object\n",
      "barcode                                object\n",
      "description                            object\n",
      "finalPrice                             object\n",
      "itemPrice                              object\n",
      "needsFetchReview                       object\n",
      "partnerItemId                          object\n",
      "preventTargetGapPoints                 object\n",
      "quantityPurchased                     float64\n",
      "userFlaggedBarcode                     object\n",
      "userFlaggedNewItem                     object\n",
      "userFlaggedPrice                       object\n",
      "userFlaggedQuantity                   float64\n",
      "userFlaggedDescription                 object\n",
      "targetPrice                            object\n",
      "discountedItemPrice                    object\n",
      "originalReceiptItemText                object\n",
      "originalFinalPrice                     object\n",
      "competitiveProduct                     object\n",
      "originalMetaBriteBarcode               object\n",
      "originalMetaBriteDescription           object\n",
      "originalMetaBriteItemPrice             object\n",
      "originalMetaBriteQuantityPurchased    float64\n",
      "pointsEarned                           object\n",
      "pointsPayerId                          object\n",
      "rewardsGroup                           object\n",
      "rewardsProductPartnerId                object\n",
      "pointsNotAwardedReason                 object\n",
      "needsFetchReviewReason                 object\n",
      "dtype: object\n"
     ]
    }
   ],
   "source": [
    "print(df_items.dtypes) # Check data types in df_products"
   ]
  },
  {
   "cell_type": "code",
   "execution_count": 13,
   "id": "31286497",
   "metadata": {},
   "outputs": [
    {
     "name": "stderr",
     "output_type": "stream",
     "text": [
      "C:\\Users\\harik\\AppData\\Local\\Temp\\ipykernel_19504\\2303436868.py:3: SettingWithCopyWarning: \n",
      "A value is trying to be set on a copy of a slice from a DataFrame.\n",
      "Try using .loc[row_indexer,col_indexer] = value instead\n",
      "\n",
      "See the caveats in the documentation: https://pandas.pydata.org/pandas-docs/stable/user_guide/indexing.html#returning-a-view-versus-a-copy\n",
      "  df_items[price_cols] = df_items[price_cols].replace('', 0).astype(float)\n",
      "C:\\Users\\harik\\AppData\\Local\\Temp\\ipykernel_19504\\2303436868.py:7: SettingWithCopyWarning: \n",
      "A value is trying to be set on a copy of a slice from a DataFrame.\n",
      "Try using .loc[row_indexer,col_indexer] = value instead\n",
      "\n",
      "See the caveats in the documentation: https://pandas.pydata.org/pandas-docs/stable/user_guide/indexing.html#returning-a-view-versus-a-copy\n",
      "  df_items[bool_cols] = df_items[bool_cols].astype(bool)\n",
      "C:\\Users\\harik\\AppData\\Local\\Temp\\ipykernel_19504\\2303436868.py:10: SettingWithCopyWarning: \n",
      "A value is trying to be set on a copy of a slice from a DataFrame.\n",
      "Try using .loc[row_indexer,col_indexer] = value instead\n",
      "\n",
      "See the caveats in the documentation: https://pandas.pydata.org/pandas-docs/stable/user_guide/indexing.html#returning-a-view-versus-a-copy\n",
      "  df_items['barcode'] = df_items['barcode'].astype(str)\n"
     ]
    }
   ],
   "source": [
    "# Convert price-related columns to float\n",
    "price_cols = ['itemPrice', 'targetPrice', 'discountedItemPrice', 'finalPrice']\n",
    "df_items[price_cols] = df_items[price_cols].replace('', 0).astype(float)\n",
    "\n",
    "# Convert boolean flags\n",
    "bool_cols = ['competitiveProduct', 'needsFetchReview']\n",
    "df_items[bool_cols] = df_items[bool_cols].astype(bool)\n",
    "\n",
    "# Ensure barcode remains string\n",
    "df_items['barcode'] = df_items['barcode'].astype(str)"
   ]
  },
  {
   "cell_type": "markdown",
   "id": "e660fa7a",
   "metadata": {},
   "source": [
    "Dropping the columns that are created in df_products from df_items to remove the redundancy and increase data integrity"
   ]
  },
  {
   "cell_type": "code",
   "execution_count": 14,
   "id": "aa057ce4",
   "metadata": {},
   "outputs": [],
   "source": [
    "df_items = df_items.drop(columns=['description', 'itemPrice', 'targetPrice','discountedItemPrice', 'finalPrice', 'competitiveProduct','needsFetchReview','needsFetchReviewReason'], errors='ignore')"
   ]
  },
  {
   "cell_type": "markdown",
   "id": "8050f9d9",
   "metadata": {},
   "source": [
    "Creating a seperate table for df_rewards by extracting all rewards information from df_items"
   ]
  },
  {
   "cell_type": "code",
   "execution_count": 15,
   "id": "76824735",
   "metadata": {},
   "outputs": [],
   "source": [
    "df_rewards = df_items[['rewardsProductPartnerId', 'rewardsGroup', 'pointsEarned', 'pointsPayerId', 'pointsNotAwardedReason']].reset_index(drop=True)\n",
    "df_rewards['reward_id'] = df_rewards.index + 1"
   ]
  },
  {
   "cell_type": "markdown",
   "id": "67085a78",
   "metadata": {},
   "source": [
    "Dropping the columns that are created in df_rewards from df_items to remove the redundancy and increase data integrity"
   ]
  },
  {
   "cell_type": "code",
   "execution_count": 16,
   "id": "fad14081",
   "metadata": {},
   "outputs": [],
   "source": [
    "df_items = df_items.drop(columns=['rewardsGroup', 'pointsEarned', 'pointsPayerId', 'pointsNotAwardedReason'])"
   ]
  },
  {
   "cell_type": "code",
   "execution_count": 17,
   "id": "41396694",
   "metadata": {},
   "outputs": [],
   "source": [
    "df_user_flagged = df_items[['userFlaggedBarcode', 'userFlaggedDescription', 'userFlaggedPrice', 'userFlaggedQuantity','userFlaggedNewItem']].reset_index(drop=True)\n",
    "df_user_flagged['user_flagged_id'] = df_user_flagged.index + 1"
   ]
  },
  {
   "cell_type": "markdown",
   "id": "260aa51a",
   "metadata": {},
   "source": [
    "Dropping the columns that are created in df_user_flagged from df_items to remove the redundancy and increase data integrity"
   ]
  },
  {
   "cell_type": "code",
   "execution_count": 18,
   "id": "1a15fc95",
   "metadata": {},
   "outputs": [],
   "source": [
    "df_items = df_items.drop(columns=['userFlaggedDescription', 'userFlaggedPrice', 'userFlaggedQuantity','userFlaggedNewItem'])"
   ]
  },
  {
   "cell_type": "code",
   "execution_count": 19,
   "id": "56bd18ec",
   "metadata": {},
   "outputs": [],
   "source": [
    "df_metabrite = df_items[['originalMetaBriteBarcode','originalMetaBriteDescription', 'originalMetaBriteItemPrice','originalMetaBriteQuantityPurchased']].reset_index(drop=True)\n",
    "df_metabrite['metabrite_id'] = df_metabrite.index + 1"
   ]
  },
  {
   "cell_type": "markdown",
   "id": "b205bf1a",
   "metadata": {},
   "source": [
    "Dropping the columns that are created in df_metabrite from df_items to remove the redundancy and increase data integrity"
   ]
  },
  {
   "cell_type": "code",
   "execution_count": 20,
   "id": "476ba61c",
   "metadata": {},
   "outputs": [],
   "source": [
    "df_items=df_items.drop(columns=['originalMetaBriteDescription', 'originalMetaBriteItemPrice','originalMetaBriteQuantityPurchased'])"
   ]
  },
  {
   "cell_type": "markdown",
   "id": "b756db9a",
   "metadata": {},
   "source": [
    "Created tables df_brands, df_users, df_receipts_normalized, df_items, df_products, df_rewards, df_user_flagged, df_metabrite to reduce redundancy,increase data integrity and increase performance of query execution."
   ]
  },
  {
   "cell_type": "code",
   "execution_count": 21,
   "id": "2c5ef19f",
   "metadata": {},
   "outputs": [],
   "source": [
    "df_receipts_normalized.to_csv(\"C:/Users/harik/Downloads/fetch/normalized_receipts.csv\", index=False)\n",
    "df_products.to_csv(\"C:/Users/harik/Downloads/fetch/normalized_products.csv\", index=False)\n",
    "df_rewards.to_csv(\"C:/Users/harik/Downloads/fetch/normalized_rewards.csv\", index=False)\n",
    "df_user_flagged.to_csv(\"C:/Users/harik/Downloads/fetch/normalized_user_flagged.csv\", index=False)\n",
    "df_items.to_csv(\"C:/Users/harik/Downloads/fetch/normalized_items.csv\", index=False)\n",
    "df_metabrite.to_csv(\"C:/Users/harik/Downloads/fetch/normalized_metabrite.csv\", index=False)"
   ]
  },
  {
   "cell_type": "markdown",
   "id": "05449408",
   "metadata": {},
   "source": [
    "Saved the new datasets in CSV "
   ]
  }
 ],
 "metadata": {
  "kernelspec": {
   "display_name": "Python 3 (ipykernel)",
   "language": "python",
   "name": "python3"
  },
  "language_info": {
   "codemirror_mode": {
    "name": "ipython",
    "version": 3
   },
   "file_extension": ".py",
   "mimetype": "text/x-python",
   "name": "python",
   "nbconvert_exporter": "python",
   "pygments_lexer": "ipython3",
   "version": "3.10.9"
  }
 },
 "nbformat": 4,
 "nbformat_minor": 5
}
